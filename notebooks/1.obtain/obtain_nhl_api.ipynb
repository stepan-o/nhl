{
 "cells": [
  {
   "cell_type": "markdown",
   "source": [
    "# NHL dataset\n",
    "# Step 1. Obtain data (OSEMN methodology)\n",
    "# Collecting data from the NHL API\n",
    "\n",
    "This notebook presents the process of collecting data from the NHL API.\n",
    "\n",
    "For detailed description of OSEMN methodology, NHL APIs and their endpoints, refer to folder **methodology**."
   ],
   "metadata": {
    "collapsed": false
   }
  },
  {
   "cell_type": "code",
   "execution_count": 1,
   "outputs": [],
   "source": [
    "import requests\n",
    "import pandas as pd\n",
    "from time import time\n",
    "import os"
   ],
   "metadata": {
    "collapsed": false,
    "pycharm": {
     "name": "#%%\n",
     "is_executing": false
    }
   }
  },
  {
   "cell_type": "code",
   "execution_count": 8,
   "outputs": [
    {
     "data": {
      "text/plain": "[]"
     },
     "metadata": {},
     "output_type": "execute_result",
     "execution_count": 8
    }
   ],
   "source": [
    "data_path = '../../data/nhl_api/'\n",
    "os.listdir(data_path)"
   ],
   "metadata": {
    "collapsed": false,
    "pycharm": {
     "name": "#%%\n",
     "is_executing": false
    }
   }
  },
  {
   "cell_type": "markdown",
   "source": [
    "## NHL Draft data for all seasons\n",
    "Obtained from the NHL Records API Draft endpoint."
   ],
   "metadata": {
    "collapsed": false,
    "pycharm": {
     "name": "#%% md\n"
    }
   }
  },
  {
   "cell_type": "code",
   "execution_count": 9,
   "outputs": [
    {
     "name": "stdout",
     "text": [
      "JSON received from NHL API.took 0.98 seconds.\n----- DataFrame with NHL Draft Data loaded\nin 0.06 seconds\nwith 11,588 rows\nand 25 columns\n-- Column names:\n Index(['amateurClubName', 'amateurLeague', 'birthDate', 'birthPlace',\n       'countryCode', 'csPlayerId', 'draftYear', 'draftedByTeamId',\n       'firstName', 'height', 'id', 'lastName', 'overallPickNumber',\n       'pickInRound', 'playerId', 'playerName', 'position', 'removedOutright',\n       'removedOutrightWhy', 'roundNumber', 'shootsCatches',\n       'supplementalDraft', 'teamPickHistory', 'triCode', 'weight'],\n      dtype='object')\n",
      "saved to file:\n ../../data/nhl_api/nhl_draft_all.csv\n"
     ],
     "output_type": "stream"
    }
   ],
   "source": [
    "url = 'https://records.nhl.com/site/api/draft'\n",
    "save_path = data_path + 'nhl_draft_all.csv'\n",
    "\n",
    "t = time()\n",
    "r = requests.get(url)\n",
    "json_data = r.json()\n",
    "elapsed = time() - t\n",
    "print(\"JSON received from NHL API.\"\n",
    "      \"took {0:.2f} seconds.\"\n",
    "      .format(elapsed))\n",
    "t = time()\n",
    "df_raw = pd.DataFrame(json_data['data'])\n",
    "elapsed = time() - t\n",
    "print(\"----- DataFrame with NHL Draft Data loaded\"\n",
    "      \"\\nin {0:.2f} seconds\".format(elapsed) + \n",
    "      \"\\nwith {0:,} rows\\nand {1:,} columns\"\n",
    "      .format(df_raw.shape[0], df_raw.shape[1]) + \n",
    "      \"\\n-- Column names:\\n\", df_raw.columns)\n",
    "df_raw.to_csv(save_path, index=False)\n",
    "print(\"saved to file:\\n\", save_path)"
   ],
   "metadata": {
    "collapsed": false,
    "pycharm": {
     "name": "#%%\n",
     "is_executing": false
    }
   }
  },
  {
   "cell_type": "markdown",
   "source": [
    "## NHL Teams\n",
    "Obtained from the NHL Stats API Teams endpoint."
   ],
   "metadata": {
    "collapsed": false
   }
  },
  {
   "cell_type": "code",
   "execution_count": 14,
   "outputs": [
    {
     "name": "stdout",
     "text": [
      "JSON received from NHL API.\ntook 0.31 seconds.\n\nCopyright:\n NHL and the NHL Shield are registered trademarks of the National Hockey League. NHL and NHL team marks are the property of the NHL and its teams. © NHL 2019. All Rights Reserved.\n\n----- DataFrame with NHL Teams Data loaded\nin 0.03 seconds\nwith 31 rows\nand 15 columns\n-- Column names:\n Index(['abbreviation', 'active', 'conference', 'division', 'firstYearOfPlay',\n       'franchise', 'franchiseId', 'id', 'link', 'locationName', 'name',\n       'officialSiteUrl', 'shortName', 'teamName', 'venue'],\n      dtype='object')\nsaved to file:\n ../../data/nhl_api/teams.csv\n"
     ],
     "output_type": "stream"
    }
   ],
   "source": [
    "url = 'https://statsapi.web.nhl.com/api/v1/teams'\n",
    "save_path = data_path + 'teams.csv'\n",
    "\n",
    "t = time()\n",
    "r = requests.get(url)\n",
    "json_data = r.json()\n",
    "elapsed = time() - t\n",
    "print(\"JSON received from NHL API.\"\n",
    "      \"\\ntook {0:.2f} seconds.\"\n",
    "      .format(elapsed))\n",
    "print(\"\\nCopyright:\\n\", json_data['copyright'])\n",
    "\n",
    "t = time()\n",
    "df_raw = pd.DataFrame(json_data['teams'])\n",
    "elapsed = time() - t\n",
    "print(\"\\n----- DataFrame with NHL Teams Data loaded\"\n",
    "      \"\\nin {0:.2f} seconds\".format(elapsed) + \n",
    "      \"\\nwith {0:,} rows\\nand {1:,} columns\"\n",
    "      .format(df_raw.shape[0], df_raw.shape[1]) + \n",
    "      \"\\n-- Column names:\\n\", df_raw.columns)\n",
    "df_raw.to_csv(save_path, index=False)\n",
    "print(\"saved to file:\\n\", save_path)"
   ],
   "metadata": {
    "collapsed": false,
    "pycharm": {
     "name": "#%%\n",
     "is_executing": false
    }
   }
  },
  {
   "cell_type": "markdown",
   "source": [
    "## NHL Draft Prospects\n",
    "Obtained from the NHL Stats API Prospects endpoint."
   ],
   "metadata": {
    "collapsed": false
   }
  },
  {
   "cell_type": "code",
   "execution_count": 15,
   "outputs": [
    {
     "name": "stdout",
     "text": [
      "JSON received from NHL API.\ntook 0.81 seconds.\n\nCopyright:\n NHL and the NHL Shield are registered trademarks of the National Hockey League. NHL and NHL team marks are the property of the NHL and its teams. © NHL 2019. All Rights Reserved.\n\n----- DataFrame with NHL Prospects data loaded\nin 0.04 seconds\nwith 9,632 rows\nand 20 columns\n-- Column names:\n Index(['amateurLeague', 'amateurTeam', 'birthCity', 'birthCountry',\n       'birthDate', 'birthStateProvince', 'draftStatus', 'firstName',\n       'fullName', 'height', 'id', 'lastName', 'link', 'nationality',\n       'nhlPlayerId', 'primaryPosition', 'prospectCategory', 'ranks',\n       'shootsCatches', 'weight'],\n      dtype='object')\nsaved to file:\n ../../data/nhl_api/prospects.csv\n"
     ],
     "output_type": "stream"
    }
   ],
   "source": [
    "url = 'https://statsapi.web.nhl.com/api/v1/draft/prospects'\n",
    "save_path = data_path + 'prospects.csv'\n",
    "\n",
    "t = time()\n",
    "r = requests.get(url)\n",
    "json_data = r.json()\n",
    "elapsed = time() - t\n",
    "print(\"JSON received from NHL API.\"\n",
    "      \"\\ntook {0:.2f} seconds.\"\n",
    "      .format(elapsed))\n",
    "print(\"\\nCopyright:\\n\", json_data['copyright'])\n",
    "\n",
    "t = time()\n",
    "df_raw = pd.DataFrame(json_data['prospects'])\n",
    "elapsed = time() - t\n",
    "print(\"\\n----- DataFrame with NHL Prospects data loaded\"\n",
    "      \"\\nin {0:.2f} seconds\".format(elapsed) + \n",
    "      \"\\nwith {0:,} rows\\nand {1:,} columns\"\n",
    "      .format(df_raw.shape[0], df_raw.shape[1]) + \n",
    "      \"\\n-- Column names:\\n\", df_raw.columns)\n",
    "df_raw.to_csv(save_path, index=False)\n",
    "print(\"saved to file:\\n\", save_path)"
   ],
   "metadata": {
    "collapsed": false,
    "pycharm": {
     "name": "#%%\n",
     "is_executing": false
    }
   }
  },
  {
   "cell_type": "markdown",
   "source": [
    "## Detailed records\n",
    "### Get main records directory with restURLs for each record category"
   ],
   "metadata": {
    "collapsed": false
   }
  },
  {
   "cell_type": "code",
   "execution_count": 16,
   "outputs": [
    {
     "name": "stdout",
     "text": [
      "JSON received from NHL API.\ntook 0.38 seconds.\n----- DataFrame with the main records directory loaded\nin 0.00 seconds\nwith 657 rows\nand 6 columns\n-- Column names:\n Index(['description', 'descriptionKey', 'id', 'restUrl', 'sequence',\n       'videoId'],\n      dtype='object')\nsaved to file:\n ../../data/nhl_api/records/records_main.csv\n"
     ],
     "output_type": "stream"
    }
   ],
   "source": [
    "url = 'https://records.nhl.com/site/api/record-detail'\n",
    "save_path = data_path + 'records/records_main.csv'\n",
    "\n",
    "# get data from NHL API\n",
    "t = time()\n",
    "r = requests.get(url)\n",
    "json_data = r.json()\n",
    "elapsed = time() - t\n",
    "print(\"JSON received from NHL API.\"\n",
    "      \"\\ntook {0:.2f} seconds.\"\n",
    "      .format(elapsed))\n",
    "\n",
    "# records results to a .csv file\n",
    "t = time()\n",
    "df_records = pd.DataFrame(json_data['data'])\n",
    "elapsed = time() - t\n",
    "print(\"----- DataFrame with the main records directory loaded\"\n",
    "      \"\\nin {0:.2f} seconds\".format(elapsed) + \n",
    "      \"\\nwith {0:,} rows\\nand {1:,} columns\"\n",
    "      .format(df_records.shape[0], df_records.shape[1]) + \n",
    "      \"\\n-- Column names:\\n\", df_records.columns)\n",
    "df_records.to_csv(save_path, index=False)\n",
    "print(\"saved to file:\\n\", save_path)"
   ],
   "metadata": {
    "collapsed": false,
    "pycharm": {
     "name": "#%%\n",
     "is_executing": false
    }
   }
  },
  {
   "cell_type": "markdown",
   "source": [
    "### Select relevant columns"
   ],
   "metadata": {
    "collapsed": false,
    "pycharm": {
     "name": "#%% md\n"
    }
   }
  },
  {
   "cell_type": "code",
   "execution_count": 17,
   "outputs": [
    {
     "data": {
      "text/plain": "                                           description  \\\n0                           Most Goals, Rookie, Season   \n1                             Most Goals, Rookie, Game   \n2                   Most Goals, Rookie, First NHL Game   \n3                         Most Assists, Rookie, Season   \n4                           Most Assists, Rookie, Game   \n5                 Most Assists, Rookie, First NHL Game   \n6                          Most Points, Rookie, Season   \n7                            Most Points, Rookie, Game   \n8                  Most Points, Rookie, First NHL Game   \n9                Most Goals, Rookie Defenseman, Season   \n10             Most Assists, Rookie Defenseman, Season   \n11              Most Points, Rookie Defenseman, Season   \n12                         Most Seasons Played, Career   \n13                           Most Games Played, Career   \n14       Most Games Played, Career, Including Playoffs   \n15          Most Consecutive Games Played, NHL History   \n16                                  Most Goals, Career   \n17              Most Goals, Career, Including Playoffs   \n18                                  Most Goals, Season   \n19              Most Goals, Season, Including Playoffs   \n20           Most Goals, 50 Games From Start of Season   \n21                                    Most Goals, Game   \n22                               Most Goals, Road Game   \n23                                  Most Goals, Period   \n24                                Most Assists, Career   \n25            Most Assists, Career, Including Playoffs   \n26                                Most Assists, Season   \n27            Most Assists, Season, Including Playoffs   \n28                                  Most Assists, Game   \n29                             Most Assists, Road Game   \n..                                                 ...   \n627                      Most Losses, November, Season   \n628                      Most Losses, December, Season   \n629                       Most Losses, January, Season   \n630                      Most Losses, February, Season   \n631                         Most Losses, March, Season   \n632                         Most Losses, April, Season   \n633               Longest Home Winning Streaks, Season   \n634               Longest Road Winning Streaks, Season   \n635            Longest Winning Streaks, Rookie, Season   \n636       Longest Home Winning Streaks, Rookie, Season   \n637       Longest Road Winning Streaks, Rookie, Season   \n638                  Most Consecutive Shutouts, Season   \n639              Multi-Goal/Assist/Point Games, Career   \n640              Multi-Goal/Assist/Point Games, Career   \n641              Multi-Goal/Assist/Point Games, Season   \n642        Multi-Goal/Assist/Point Games, Playoff Year   \n643  Multi-Goal/Assist/Point Games, Defensemen, Career   \n644  Multi-Goal/Assist/Point Games, Defensemen, Career   \n645  Multi-Goal/Assist/Point Games, Defensemen, Season   \n646  Multi-Goal/Assist/Point Games, Defensemen, Pla...   \n647              Multi-Goal/Assist/Point Games, Rookie   \n648  Multi-Goal/Assist/Point Games, Rookie, Playoff...   \n649  Most Shots on Goal, Both Teams, Period (Since ...   \n650  Most Shots on Goal, One Team, Game (Since 1959...   \n651  Most Shots on Goal, Both Teams, Game (Since 19...   \n652  Most Shots on Goal, One Team, Period (Since 19...   \n653  Most Shots on Goal, Both Teams, Period (Since ...   \n654  Most Shots on Goal, One Team, One OT Period (S...   \n655  Most Shots on Goal, Both Teams, One OT Period ...   \n656  Most Shots on Goal, One Team, Entire Overtime ...   \n\n                                     descriptionKey  \\\n0                      most-goals-rookie-one-season   \n1           most-goals-rookie-first-season-one-game   \n2                      most-goals-rookie-first-game   \n3                    most-assists-rookie-one-season   \n4         most-assists-rookie-first-season-one-game   \n5                    most-assists-rookie-first-game   \n6                     most-points-rookie-one-season   \n7          most-points-rookie-first-season-one-game   \n8                     most-points-rookie-first-game   \n9           most-goals-rookie-defenseman-one-season   \n10        most-assists-rookie-defenseman-one-season   \n11         most-points-rookie-defenseman-one-season   \n12                                     most-seasons   \n13                                most-games-played   \n14      most-games-played-career-including-playoffs   \n15                    most-consecutive-games-played   \n16                                most-goals-career   \n17             most-goals-career-including-playoffs   \n18                     skater-most-goals-one-season   \n19         most-goals-one-season-including-playoffs   \n20            most-goals-50-games-from-season-start   \n21                              most-goals-one-game   \n22                         most-goals-one-road-game   \n23                            most-goals-one-period   \n24                              most-assists-career   \n25           most-assists-career-including-playoffs   \n26                   skater-most-assists-one-season   \n27       most-assists-one-season-including-playoffs   \n28                            most-assists-one-game   \n29                       most-assists-one-road-game   \n..                                              ...   \n627                            most-losses-november   \n628                            most-losses-december   \n629                             most-losses-january   \n630                            most-losses-february   \n631                               most-losses-march   \n632                               most-losses-april   \n633         longest-home-winning-streaks-one-season   \n634         longest-road-winning-streaks-one-season   \n635       longest-winning-streaks-rookie-one-season   \n636  longest-home-winning-streaks-rookie-one-season   \n637  longest-road-winning-streaks-rookie-one-season   \n638                most-consecutive-shutouts-season   \n639                      multi-point-scoring-career   \n640             multi-point-scoring-career-playoffs   \n641                      multi-point-scoring-season   \n642                multi-point-scoring-playoff-year   \n643           multi-point-scoring-defensemen-career   \n644  multi-point-scoring-defensemen-career-playoffs   \n645           multi-point-scoring-defensemen-season   \n646     multi-point-scoring-defensemen-playoff-year   \n647                      multi-point-scoring-rookie   \n648         multi-point-scoring-rookie-playoff-year   \n649                most-shots-both-teams-one-period   \n650           most-shots-one-team-one-game-playoffs   \n651         most-shots-both-teams-one-game-playoffs   \n652         most-shots-one-team-one-period-playoffs   \n653       most-shots-both-teams-one-period-playoffs   \n654      most-shots-one-team-one-ot-period-playoffs   \n655    most-shots-both-teams-one-ot-period-playoffs   \n656                 most-shots-one-team-ot-playoffs   \n\n                                               restUrl  \n0    /site/api/skater-regular-season-scoring?cayenn...  \n1    /site/api/skater-first-season-game-scoring?cay...  \n2    /site/api/skater-first-game-scoring?cayenneExp...  \n3    /site/api/skater-regular-season-scoring?cayenn...  \n4    /site/api/skater-first-season-game-scoring?cay...  \n5    /site/api/skater-first-game-scoring?cayenneExp...  \n6    /site/api/skater-regular-season-scoring?cayenn...  \n7    /site/api/skater-first-season-game-scoring?cay...  \n8    /site/api/skater-first-game-scoring?cayenneExp...  \n9    /site/api/skater-regular-season-scoring?cayenn...  \n10   /site/api/skater-regular-season-scoring?cayenn...  \n11   /site/api/skater-regular-season-scoring?cayenn...  \n12   /site/api/skater-career-scoring-regular-season...  \n13   /site/api/skater-career-scoring-regular-season...  \n14   /site/api/skater-career-scoring-regular-plus-p...  \n15   /site/api/games-played-streak-skaters?cayenneE...  \n16   /site/api/skater-career-scoring-regular-season...  \n17   /site/api/skater-career-scoring-regular-plus-p...  \n18   /site/api/skater-regular-season-scoring?cayenn...  \n19   /site/api/skater-regular-plus-playoff-scoring?...  \n20   /site/api/skater-most-goals-1st-50-games?cayen...  \n21   /site/api/skater-game-goals?cayenneExp=gameTyp...  \n22   /site/api/skater-game-goals?cayenneExp=gameTyp...  \n23   /site/api/skater-period-scoring?cayenneExp=gam...  \n24   /site/api/skater-career-scoring-regular-season...  \n25   /site/api/skater-career-scoring-regular-plus-p...  \n26   /site/api/skater-regular-season-scoring?cayenn...  \n27   /site/api/skater-regular-plus-playoff-scoring?...  \n28   /site/api/skater-game-assists?cayenneExp=gameT...  \n29   /site/api/skater-game-assists?cayenneExp=gameT...  \n..                                                 ...  \n627  /site/api/team-record-november?cayenneExp= los...  \n628  /site/api/team-record-december?cayenneExp= los...  \n629  /site/api/team-record-january?cayenneExp= loss...  \n630  /site/api/team-record-february?cayenneExp= los...  \n631  /site/api/team-record-march?cayenneExp= losses...  \n632  /site/api/team-record-april?cayenneExp= losses...  \n633  /site/api/goalie-home-win-streak?cayenneExp=ga...  \n634  /site/api/goalie-road-win-streak?cayenneExp=ga...  \n635  /site/api/goalie-win-streak?cayenneExp=rookie ...  \n636  /site/api/goalie-home-win-streak?cayenneExp=ro...  \n637  /site/api/goalie-road-win-streak?cayenneExp=ro...  \n638  /site/api/goalie-shutout-games-streak-regular-...  \n639  /site/api/skater-multipoint-games-career?cayen...  \n640  /site/api/skater-multipoint-games-career?cayen...  \n641  /site/api/skater-multipoint-games-season?cayen...  \n642  /site/api/skater-multipoint-games-season?cayen...  \n643  /site/api/skater-multipoint-games-career?cayen...  \n644  /site/api/skater-multipoint-games-career?cayen...  \n645  /site/api/skater-multipoint-games-season?cayen...  \n646  /site/api/skater-multipoint-games-season?cayen...  \n647  /site/api/skater-multipoint-games-season?cayen...  \n648  /site/api/skater-multipoint-games-season?cayen...  \n649  /site/api/team-period-scoring-both-teams?cayen...  \n650  /site/api/team-game-record-and-scoring?cayenne...  \n651  /site/api/team-game-record-and-scoring-both-te...  \n652  /site/api/team-period-scoring?cayenneExp=shots...  \n653  /site/api/team-period-scoring-both-teams?cayen...  \n654  /site/api/team-playoff-ot-period-scoring-one-t...  \n655  /site/api/team-playoff-ot-period-scoring-both-...  \n656  /site/api/team-playoff-ot-shot-totals-one-team...  \n\n[657 rows x 3 columns]",
      "text/html": "<div>\n<style scoped>\n    .dataframe tbody tr th:only-of-type {\n        vertical-align: middle;\n    }\n\n    .dataframe tbody tr th {\n        vertical-align: top;\n    }\n\n    .dataframe thead th {\n        text-align: right;\n    }\n</style>\n<table border=\"1\" class=\"dataframe\">\n  <thead>\n    <tr style=\"text-align: right;\">\n      <th></th>\n      <th>description</th>\n      <th>descriptionKey</th>\n      <th>restUrl</th>\n    </tr>\n  </thead>\n  <tbody>\n    <tr>\n      <th>0</th>\n      <td>Most Goals, Rookie, Season</td>\n      <td>most-goals-rookie-one-season</td>\n      <td>/site/api/skater-regular-season-scoring?cayenn...</td>\n    </tr>\n    <tr>\n      <th>1</th>\n      <td>Most Goals, Rookie, Game</td>\n      <td>most-goals-rookie-first-season-one-game</td>\n      <td>/site/api/skater-first-season-game-scoring?cay...</td>\n    </tr>\n    <tr>\n      <th>2</th>\n      <td>Most Goals, Rookie, First NHL Game</td>\n      <td>most-goals-rookie-first-game</td>\n      <td>/site/api/skater-first-game-scoring?cayenneExp...</td>\n    </tr>\n    <tr>\n      <th>3</th>\n      <td>Most Assists, Rookie, Season</td>\n      <td>most-assists-rookie-one-season</td>\n      <td>/site/api/skater-regular-season-scoring?cayenn...</td>\n    </tr>\n    <tr>\n      <th>4</th>\n      <td>Most Assists, Rookie, Game</td>\n      <td>most-assists-rookie-first-season-one-game</td>\n      <td>/site/api/skater-first-season-game-scoring?cay...</td>\n    </tr>\n    <tr>\n      <th>5</th>\n      <td>Most Assists, Rookie, First NHL Game</td>\n      <td>most-assists-rookie-first-game</td>\n      <td>/site/api/skater-first-game-scoring?cayenneExp...</td>\n    </tr>\n    <tr>\n      <th>6</th>\n      <td>Most Points, Rookie, Season</td>\n      <td>most-points-rookie-one-season</td>\n      <td>/site/api/skater-regular-season-scoring?cayenn...</td>\n    </tr>\n    <tr>\n      <th>7</th>\n      <td>Most Points, Rookie, Game</td>\n      <td>most-points-rookie-first-season-one-game</td>\n      <td>/site/api/skater-first-season-game-scoring?cay...</td>\n    </tr>\n    <tr>\n      <th>8</th>\n      <td>Most Points, Rookie, First NHL Game</td>\n      <td>most-points-rookie-first-game</td>\n      <td>/site/api/skater-first-game-scoring?cayenneExp...</td>\n    </tr>\n    <tr>\n      <th>9</th>\n      <td>Most Goals, Rookie Defenseman, Season</td>\n      <td>most-goals-rookie-defenseman-one-season</td>\n      <td>/site/api/skater-regular-season-scoring?cayenn...</td>\n    </tr>\n    <tr>\n      <th>10</th>\n      <td>Most Assists, Rookie Defenseman, Season</td>\n      <td>most-assists-rookie-defenseman-one-season</td>\n      <td>/site/api/skater-regular-season-scoring?cayenn...</td>\n    </tr>\n    <tr>\n      <th>11</th>\n      <td>Most Points, Rookie Defenseman, Season</td>\n      <td>most-points-rookie-defenseman-one-season</td>\n      <td>/site/api/skater-regular-season-scoring?cayenn...</td>\n    </tr>\n    <tr>\n      <th>12</th>\n      <td>Most Seasons Played, Career</td>\n      <td>most-seasons</td>\n      <td>/site/api/skater-career-scoring-regular-season...</td>\n    </tr>\n    <tr>\n      <th>13</th>\n      <td>Most Games Played, Career</td>\n      <td>most-games-played</td>\n      <td>/site/api/skater-career-scoring-regular-season...</td>\n    </tr>\n    <tr>\n      <th>14</th>\n      <td>Most Games Played, Career, Including Playoffs</td>\n      <td>most-games-played-career-including-playoffs</td>\n      <td>/site/api/skater-career-scoring-regular-plus-p...</td>\n    </tr>\n    <tr>\n      <th>15</th>\n      <td>Most Consecutive Games Played, NHL History</td>\n      <td>most-consecutive-games-played</td>\n      <td>/site/api/games-played-streak-skaters?cayenneE...</td>\n    </tr>\n    <tr>\n      <th>16</th>\n      <td>Most Goals, Career</td>\n      <td>most-goals-career</td>\n      <td>/site/api/skater-career-scoring-regular-season...</td>\n    </tr>\n    <tr>\n      <th>17</th>\n      <td>Most Goals, Career, Including Playoffs</td>\n      <td>most-goals-career-including-playoffs</td>\n      <td>/site/api/skater-career-scoring-regular-plus-p...</td>\n    </tr>\n    <tr>\n      <th>18</th>\n      <td>Most Goals, Season</td>\n      <td>skater-most-goals-one-season</td>\n      <td>/site/api/skater-regular-season-scoring?cayenn...</td>\n    </tr>\n    <tr>\n      <th>19</th>\n      <td>Most Goals, Season, Including Playoffs</td>\n      <td>most-goals-one-season-including-playoffs</td>\n      <td>/site/api/skater-regular-plus-playoff-scoring?...</td>\n    </tr>\n    <tr>\n      <th>20</th>\n      <td>Most Goals, 50 Games From Start of Season</td>\n      <td>most-goals-50-games-from-season-start</td>\n      <td>/site/api/skater-most-goals-1st-50-games?cayen...</td>\n    </tr>\n    <tr>\n      <th>21</th>\n      <td>Most Goals, Game</td>\n      <td>most-goals-one-game</td>\n      <td>/site/api/skater-game-goals?cayenneExp=gameTyp...</td>\n    </tr>\n    <tr>\n      <th>22</th>\n      <td>Most Goals, Road Game</td>\n      <td>most-goals-one-road-game</td>\n      <td>/site/api/skater-game-goals?cayenneExp=gameTyp...</td>\n    </tr>\n    <tr>\n      <th>23</th>\n      <td>Most Goals, Period</td>\n      <td>most-goals-one-period</td>\n      <td>/site/api/skater-period-scoring?cayenneExp=gam...</td>\n    </tr>\n    <tr>\n      <th>24</th>\n      <td>Most Assists, Career</td>\n      <td>most-assists-career</td>\n      <td>/site/api/skater-career-scoring-regular-season...</td>\n    </tr>\n    <tr>\n      <th>25</th>\n      <td>Most Assists, Career, Including Playoffs</td>\n      <td>most-assists-career-including-playoffs</td>\n      <td>/site/api/skater-career-scoring-regular-plus-p...</td>\n    </tr>\n    <tr>\n      <th>26</th>\n      <td>Most Assists, Season</td>\n      <td>skater-most-assists-one-season</td>\n      <td>/site/api/skater-regular-season-scoring?cayenn...</td>\n    </tr>\n    <tr>\n      <th>27</th>\n      <td>Most Assists, Season, Including Playoffs</td>\n      <td>most-assists-one-season-including-playoffs</td>\n      <td>/site/api/skater-regular-plus-playoff-scoring?...</td>\n    </tr>\n    <tr>\n      <th>28</th>\n      <td>Most Assists, Game</td>\n      <td>most-assists-one-game</td>\n      <td>/site/api/skater-game-assists?cayenneExp=gameT...</td>\n    </tr>\n    <tr>\n      <th>29</th>\n      <td>Most Assists, Road Game</td>\n      <td>most-assists-one-road-game</td>\n      <td>/site/api/skater-game-assists?cayenneExp=gameT...</td>\n    </tr>\n    <tr>\n      <th>...</th>\n      <td>...</td>\n      <td>...</td>\n      <td>...</td>\n    </tr>\n    <tr>\n      <th>627</th>\n      <td>Most Losses, November, Season</td>\n      <td>most-losses-november</td>\n      <td>/site/api/team-record-november?cayenneExp= los...</td>\n    </tr>\n    <tr>\n      <th>628</th>\n      <td>Most Losses, December, Season</td>\n      <td>most-losses-december</td>\n      <td>/site/api/team-record-december?cayenneExp= los...</td>\n    </tr>\n    <tr>\n      <th>629</th>\n      <td>Most Losses, January, Season</td>\n      <td>most-losses-january</td>\n      <td>/site/api/team-record-january?cayenneExp= loss...</td>\n    </tr>\n    <tr>\n      <th>630</th>\n      <td>Most Losses, February, Season</td>\n      <td>most-losses-february</td>\n      <td>/site/api/team-record-february?cayenneExp= los...</td>\n    </tr>\n    <tr>\n      <th>631</th>\n      <td>Most Losses, March, Season</td>\n      <td>most-losses-march</td>\n      <td>/site/api/team-record-march?cayenneExp= losses...</td>\n    </tr>\n    <tr>\n      <th>632</th>\n      <td>Most Losses, April, Season</td>\n      <td>most-losses-april</td>\n      <td>/site/api/team-record-april?cayenneExp= losses...</td>\n    </tr>\n    <tr>\n      <th>633</th>\n      <td>Longest Home Winning Streaks, Season</td>\n      <td>longest-home-winning-streaks-one-season</td>\n      <td>/site/api/goalie-home-win-streak?cayenneExp=ga...</td>\n    </tr>\n    <tr>\n      <th>634</th>\n      <td>Longest Road Winning Streaks, Season</td>\n      <td>longest-road-winning-streaks-one-season</td>\n      <td>/site/api/goalie-road-win-streak?cayenneExp=ga...</td>\n    </tr>\n    <tr>\n      <th>635</th>\n      <td>Longest Winning Streaks, Rookie, Season</td>\n      <td>longest-winning-streaks-rookie-one-season</td>\n      <td>/site/api/goalie-win-streak?cayenneExp=rookie ...</td>\n    </tr>\n    <tr>\n      <th>636</th>\n      <td>Longest Home Winning Streaks, Rookie, Season</td>\n      <td>longest-home-winning-streaks-rookie-one-season</td>\n      <td>/site/api/goalie-home-win-streak?cayenneExp=ro...</td>\n    </tr>\n    <tr>\n      <th>637</th>\n      <td>Longest Road Winning Streaks, Rookie, Season</td>\n      <td>longest-road-winning-streaks-rookie-one-season</td>\n      <td>/site/api/goalie-road-win-streak?cayenneExp=ro...</td>\n    </tr>\n    <tr>\n      <th>638</th>\n      <td>Most Consecutive Shutouts, Season</td>\n      <td>most-consecutive-shutouts-season</td>\n      <td>/site/api/goalie-shutout-games-streak-regular-...</td>\n    </tr>\n    <tr>\n      <th>639</th>\n      <td>Multi-Goal/Assist/Point Games, Career</td>\n      <td>multi-point-scoring-career</td>\n      <td>/site/api/skater-multipoint-games-career?cayen...</td>\n    </tr>\n    <tr>\n      <th>640</th>\n      <td>Multi-Goal/Assist/Point Games, Career</td>\n      <td>multi-point-scoring-career-playoffs</td>\n      <td>/site/api/skater-multipoint-games-career?cayen...</td>\n    </tr>\n    <tr>\n      <th>641</th>\n      <td>Multi-Goal/Assist/Point Games, Season</td>\n      <td>multi-point-scoring-season</td>\n      <td>/site/api/skater-multipoint-games-season?cayen...</td>\n    </tr>\n    <tr>\n      <th>642</th>\n      <td>Multi-Goal/Assist/Point Games, Playoff Year</td>\n      <td>multi-point-scoring-playoff-year</td>\n      <td>/site/api/skater-multipoint-games-season?cayen...</td>\n    </tr>\n    <tr>\n      <th>643</th>\n      <td>Multi-Goal/Assist/Point Games, Defensemen, Career</td>\n      <td>multi-point-scoring-defensemen-career</td>\n      <td>/site/api/skater-multipoint-games-career?cayen...</td>\n    </tr>\n    <tr>\n      <th>644</th>\n      <td>Multi-Goal/Assist/Point Games, Defensemen, Career</td>\n      <td>multi-point-scoring-defensemen-career-playoffs</td>\n      <td>/site/api/skater-multipoint-games-career?cayen...</td>\n    </tr>\n    <tr>\n      <th>645</th>\n      <td>Multi-Goal/Assist/Point Games, Defensemen, Season</td>\n      <td>multi-point-scoring-defensemen-season</td>\n      <td>/site/api/skater-multipoint-games-season?cayen...</td>\n    </tr>\n    <tr>\n      <th>646</th>\n      <td>Multi-Goal/Assist/Point Games, Defensemen, Pla...</td>\n      <td>multi-point-scoring-defensemen-playoff-year</td>\n      <td>/site/api/skater-multipoint-games-season?cayen...</td>\n    </tr>\n    <tr>\n      <th>647</th>\n      <td>Multi-Goal/Assist/Point Games, Rookie</td>\n      <td>multi-point-scoring-rookie</td>\n      <td>/site/api/skater-multipoint-games-season?cayen...</td>\n    </tr>\n    <tr>\n      <th>648</th>\n      <td>Multi-Goal/Assist/Point Games, Rookie, Playoff...</td>\n      <td>multi-point-scoring-rookie-playoff-year</td>\n      <td>/site/api/skater-multipoint-games-season?cayen...</td>\n    </tr>\n    <tr>\n      <th>649</th>\n      <td>Most Shots on Goal, Both Teams, Period (Since ...</td>\n      <td>most-shots-both-teams-one-period</td>\n      <td>/site/api/team-period-scoring-both-teams?cayen...</td>\n    </tr>\n    <tr>\n      <th>650</th>\n      <td>Most Shots on Goal, One Team, Game (Since 1959...</td>\n      <td>most-shots-one-team-one-game-playoffs</td>\n      <td>/site/api/team-game-record-and-scoring?cayenne...</td>\n    </tr>\n    <tr>\n      <th>651</th>\n      <td>Most Shots on Goal, Both Teams, Game (Since 19...</td>\n      <td>most-shots-both-teams-one-game-playoffs</td>\n      <td>/site/api/team-game-record-and-scoring-both-te...</td>\n    </tr>\n    <tr>\n      <th>652</th>\n      <td>Most Shots on Goal, One Team, Period (Since 19...</td>\n      <td>most-shots-one-team-one-period-playoffs</td>\n      <td>/site/api/team-period-scoring?cayenneExp=shots...</td>\n    </tr>\n    <tr>\n      <th>653</th>\n      <td>Most Shots on Goal, Both Teams, Period (Since ...</td>\n      <td>most-shots-both-teams-one-period-playoffs</td>\n      <td>/site/api/team-period-scoring-both-teams?cayen...</td>\n    </tr>\n    <tr>\n      <th>654</th>\n      <td>Most Shots on Goal, One Team, One OT Period (S...</td>\n      <td>most-shots-one-team-one-ot-period-playoffs</td>\n      <td>/site/api/team-playoff-ot-period-scoring-one-t...</td>\n    </tr>\n    <tr>\n      <th>655</th>\n      <td>Most Shots on Goal, Both Teams, One OT Period ...</td>\n      <td>most-shots-both-teams-one-ot-period-playoffs</td>\n      <td>/site/api/team-playoff-ot-period-scoring-both-...</td>\n    </tr>\n    <tr>\n      <th>656</th>\n      <td>Most Shots on Goal, One Team, Entire Overtime ...</td>\n      <td>most-shots-one-team-ot-playoffs</td>\n      <td>/site/api/team-playoff-ot-shot-totals-one-team...</td>\n    </tr>\n  </tbody>\n</table>\n<p>657 rows × 3 columns</p>\n</div>"
     },
     "metadata": {},
     "output_type": "execute_result",
     "execution_count": 17
    }
   ],
   "source": [
    "cols = ['description', 'descriptionKey', 'restUrl']\n",
    "df_records[cols]"
   ],
   "metadata": {
    "collapsed": false,
    "pycharm": {
     "name": "#%%\n",
     "is_executing": false
    }
   }
  },
  {
   "cell_type": "markdown",
   "source": [
    "### Get detailed records using restUrls obtained above"
   ],
   "metadata": {
    "collapsed": false,
    "pycharm": {
     "name": "#%% md\n"
    }
   }
  },
  {
   "cell_type": "code",
   "execution_count": 19,
   "outputs": [
    {
     "name": "stdout",
     "text": [
      "Most Goals, Rookie, Season\n\n",
      "JSON received from NHL API.\ntook 0.60 seconds.\n----- DataFrame with Most Goals, Rookie, Season loaded\nin 0.02 seconds\nwith 3,377 rows\nand 35 columns\n-- Column names:\n Index(['activePlayer', 'assists', 'assistsPerGpMin20', 'firstGoals',\n       'firstName', 'fiveGoalGames', 'fourGoalGames', 'gameWinningGoals',\n       'gamesInSchedule', 'gamesPlayed', 'goals', 'goalsPerGpMin20',\n       'goalsPerGpMin50', 'id', 'lastName', 'overtimeAssists', 'overtimeGoals',\n       'overtimePoints', 'penalties', 'penaltyMinutes', 'playerId', 'points',\n       'pointsPerGpMin50', 'positionCode', 'powerPlayGoals', 'rookieFlag',\n       'seasonId', 'sevenGoalGames', 'shorthandedGoals', 'shots',\n       'sixGoalGames', 'teamAbbrevs', 'teamNames', 'threeGoalGames',\n       'threeOrMoreGoalGames'],\n      dtype='object')\nsaved to file:\n ../../data/nhl_api/records/most-goals-rookie-one-season.csv\n"
     ],
     "output_type": "stream"
    }
   ],
   "source": [
    "url_records = 'https://records.nhl.com'\n",
    "line = 0\n",
    "print(df_records.loc[line, 'description'] + '\\n')\n",
    "url = url_records + df_records.loc[line, 'restUrl']\n",
    "save_path = data_path + 'records/' + \\\n",
    "            df_records.loc[line, 'descriptionKey'] + \\\n",
    "            '.csv'\n",
    "\n",
    "# request data from NHL API\n",
    "t = time()\n",
    "r = requests.get(url)\n",
    "json_data = r.json()\n",
    "elapsed = time() - t\n",
    "print(\"JSON received from NHL API.\"\n",
    "      \"\\ntook {0:.2f} seconds.\"\n",
    "      .format(elapsed))\n",
    "\n",
    "# record results to file\n",
    "t = time()\n",
    "df_raw = pd.DataFrame(json_data['data'])\n",
    "elapsed = time() - t\n",
    "print(\"----- DataFrame with {0}\".format(df_records.loc[line, 'description']) + ' loaded'\n",
    "      \"\\nin {0:.2f} seconds\".format(elapsed) + \n",
    "      \"\\nwith {0:,} rows\\nand {1:,} columns\"\n",
    "      .format(df_raw.shape[0], df_raw.shape[1]) + \n",
    "      \"\\n-- Column names:\\n\", df_raw.columns)\n",
    "df_raw.to_csv(save_path, index=False)\n",
    "print(\"saved to file:\\n\", save_path)"
   ],
   "metadata": {
    "collapsed": false,
    "pycharm": {
     "name": "#%%\n",
     "is_executing": false
    }
   }
  }
 ],
 "metadata": {
  "language_info": {
   "codemirror_mode": {
    "name": "ipython",
    "version": 2
   },
   "file_extension": ".py",
   "mimetype": "text/x-python",
   "name": "python",
   "nbconvert_exporter": "python",
   "pygments_lexer": "ipython2",
   "version": "2.7.6"
  },
  "kernelspec": {
   "name": "python3",
   "language": "python",
   "display_name": "Python 3"
  },
  "pycharm": {
   "stem_cell": {
    "cell_type": "raw",
    "source": [],
    "metadata": {
     "collapsed": false
    }
   }
  }
 },
 "nbformat": 4,
 "nbformat_minor": 0
}